{
  "nbformat": 4,
  "nbformat_minor": 0,
  "metadata": {
    "colab": {
      "provenance": [],
      "authorship_tag": "ABX9TyPzDlYr0WlucSKnXsymeD1p",
      "include_colab_link": true
    },
    "kernelspec": {
      "name": "python3",
      "display_name": "Python 3"
    },
    "language_info": {
      "name": "python"
    }
  },
  "cells": [
    {
      "cell_type": "markdown",
      "metadata": {
        "id": "view-in-github",
        "colab_type": "text"
      },
      "source": [
        "<a href=\"https://colab.research.google.com/github/CryptoVizArt/kiboMoney_riskDashboard_streamlit/blob/main/kibo_sample_signalExtraction_000.ipynb\" target=\"_parent\"><img src=\"https://colab.research.google.com/assets/colab-badge.svg\" alt=\"Open In Colab\"/></a>"
      ]
    },
    {
      "cell_type": "code",
      "execution_count": null,
      "metadata": {
        "colab": {
          "base_uri": "https://localhost:8080/"
        },
        "id": "wqyef0sowuxU",
        "outputId": "55fe7ff4-aad3-498a-8b11-9b2ebc6fde3a"
      },
      "outputs": [
        {
          "output_type": "stream",
          "name": "stdout",
          "text": [
            "Retrieved data for 4 metrics across 1534 dates\n",
            "            date-to-realized-cap  \\\n",
            "date                               \n",
            "2021-01-01          1.729444e+11   \n",
            "2021-01-02          1.759768e+11   \n",
            "2021-01-03          1.791336e+11   \n",
            "2021-01-04          1.818415e+11   \n",
            "2021-01-05          1.845234e+11   \n",
            "\n",
            "            date-to-supply-in-profit-to-circulating-supply-ratio  \\\n",
            "date                                                               \n",
            "2021-01-01                                          97.979227      \n",
            "2021-01-02                                          98.036590      \n",
            "2021-01-03                                          98.227691      \n",
            "2021-01-04                                          99.095707      \n",
            "2021-01-05                                          97.378188      \n",
            "\n",
            "            date-to-market-cap  date-to-realized-profit-to-loss-1d-sum-ratio  \n",
            "date                                                                          \n",
            "2021-01-01        5.382895e+11                                     51.415300  \n",
            "2021-01-02        5.464904e+11                                     33.724983  \n",
            "2021-01-03        5.993126e+11                                     22.446608  \n",
            "2021-01-04        6.150362e+11                                      7.330664  \n",
            "2021-01-05        5.958317e+11                                     13.309029  \n"
          ]
        }
      ],
      "source": [
        "import requests\n",
        "import pandas as pd\n",
        "\n",
        "def fetch_single_data(url, start_date=\"2023-01-01\", end_date=\"2025-03-14\"):\n",
        "    start_year = int(start_date.split('-')[0])\n",
        "    end_year = int(end_date.split('-')[0])\n",
        "    years = list(range(start_year, end_year + 1))\n",
        "\n",
        "    all_data = {}\n",
        "\n",
        "    for year in years:\n",
        "        api_url = f\"{url}?chunk={year}\"\n",
        "        try:\n",
        "            response = requests.get(api_url)\n",
        "            data = response.json()\n",
        "            if 'dataset' in data and 'map' in data['dataset']:\n",
        "                all_data.update(data['dataset']['map'])\n",
        "        except Exception:\n",
        "            pass\n",
        "\n",
        "    if all_data:\n",
        "        df = pd.DataFrame({\n",
        "            'date': list(all_data.keys()),\n",
        "            'value': list(all_data.values())\n",
        "        })\n",
        "        df['date'] = pd.to_datetime(df['date'])\n",
        "        df = df[(df['date'] >= pd.to_datetime(start_date)) &\n",
        "                (df['date'] <= pd.to_datetime(end_date))]\n",
        "        df = df.sort_values('date').reset_index(drop=True)\n",
        "        return df\n",
        "\n",
        "    return pd.DataFrame(columns=['date', 'value'])\n",
        "\n",
        "def fetch_all_metrics(metrics_urls, start_date=\"2023-01-01\", end_date=\"2025-03-14\"):\n",
        "    # Dictionary to hold all dataframes\n",
        "    metric_dfs = {}\n",
        "\n",
        "    for url in metrics_urls:\n",
        "        metric_name = url.split('/')[-1]\n",
        "        df = fetch_single_data(url, start_date, end_date)\n",
        "\n",
        "        if not df.empty:\n",
        "            # Store dataframe with metric name as key\n",
        "            metric_dfs[metric_name] = df.set_index('date')['value']\n",
        "\n",
        "    if metric_dfs:\n",
        "        # Combine all series side by side with date as index\n",
        "        raw_data = pd.DataFrame(metric_dfs)\n",
        "        return raw_data\n",
        "\n",
        "    return pd.DataFrame()\n",
        "\n",
        "# Example usage:\n",
        "METRICS = [\n",
        "    \"https://kibo.money/api/date-to-realized-cap\",\n",
        "    \"https://kibo.money/api/date-to-supply-in-profit-to-circulating-supply-ratio\",\n",
        "    \"https://kibo.money/api/date-to-market-cap\",\n",
        "    \"https://kibo.money/api/date-to-realized-profit-to-loss-1d-sum-ratio\"\n",
        "]\n",
        "\n",
        "start_date = \"2021-01-01\"\n",
        "end_date = \"2025-03-14\"\n",
        "\n",
        "raw_data = fetch_all_metrics(METRICS, start_date, end_date)\n",
        "print(f\"Retrieved data for {raw_data.shape[1]} metrics across {raw_data.shape[0]} dates\")\n",
        "print(raw_data.head())"
      ]
    },
    {
      "cell_type": "code",
      "source": [
        "\"\""
      ],
      "metadata": {
        "id": "J1unUoZLxbmS"
      },
      "execution_count": null,
      "outputs": []
    }
  ]
}